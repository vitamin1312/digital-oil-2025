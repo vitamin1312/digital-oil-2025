{
 "cells": [
  {
   "cell_type": "code",
   "execution_count": 8,
   "id": "a55ec8d9-15ed-4eec-8401-3278ae6d3a4f",
   "metadata": {},
   "outputs": [],
   "source": [
    "import numpy as np\n",
    "import pandas as pd\n",
    "import seaborn as sns\n",
    "import matplotlib.pyplot as plt\n",
    "import bisect\n",
    "import datetime\n",
    "import csv"
   ]
  },
  {
   "cell_type": "code",
   "execution_count": 2,
   "id": "253c742d-8a91-46bf-8da6-b80a95037e7e",
   "metadata": {},
   "outputs": [],
   "source": [
    "id_to_param_name = {\n",
    "    1: \"Дебит жидкости (объёмный), м3/сут\", # target # Debit\n",
    "    2: \"Обводненность (объёмная), %\",# Obvodnennost\n",
    "    3: \"Рбуф, атм\",# Rbuf\n",
    "    4: \"Давление линейное, атм\",# Linear pressure\n",
    "    5: \"Давление на приеме насоса, атм\", # empty# Pressure na prieme nasosa\n",
    "    6: \"Загрузка ПЭД, %\",# Zagruzka PED\n",
    "    7: \"Попутный газ\",#  Poputniy gaz\n",
    "    8: \"Частота тока, Герц\",# Chastota toka\n",
    "    9: \"Ток фазы А, A (ампер)\",# Tok fazi\n",
    "    10: \"Мощность активная, кВт\",# Moshnost aktivnaya\n",
    "    11: \"Напряжение, АВ Вольт\",# Napryazhenie\n",
    "    12: \"P затрубное, атм\", # empty# R zatrubnoye\n",
    "}"
   ]
  },
  {
   "cell_type": "code",
   "execution_count": 3,
   "id": "2eb89226-6841-4666-904a-1bbbdfcafbe4",
   "metadata": {},
   "outputs": [],
   "source": [
    "def date_to_timestamp(x):\n",
    "    return datetime.datetime.strptime(x, \"%Y-%m-%d %H:%M:%S\").timestamp()"
   ]
  },
  {
   "cell_type": "code",
   "execution_count": 4,
   "id": "8148f107-bc10-42d9-9285-c39127ebb174",
   "metadata": {},
   "outputs": [],
   "source": [
    "def dataframe_date_to_timestamp(x_list):\n",
    "    y_list = []\n",
    "    for x in x_list:\n",
    "        y_list.append(datetime.datetime.strptime(x, \"%Y-%m-%d %H:%M:%S\").timestamp())\n",
    "    return y_list"
   ]
  },
  {
   "cell_type": "code",
   "execution_count": 13,
   "id": "5ed0dc72-545b-40e3-9d17-e117504fc11d",
   "metadata": {
    "scrolled": true
   },
   "outputs": [],
   "source": [
    "def return_organized_entries(data):\n",
    "    data.sort_values('tm_time')\n",
    "    target = data[data['param_id'] == 1] # filter target data\n",
    "\n",
    "    parameters_timeseries_per_well_timestamps = []\n",
    "    parameters_timeseries_per_well_values = []\n",
    "    for i in range(1, 13):\n",
    "        parameters_timeseries_per_well_timestamps.append(dataframe_date_to_timestamp(data[data['param_id'] == i]['tm_time'].tolist())) # filter features, tm_value\n",
    "        parameters_timeseries_per_well_values.append(data[data['param_id'] == i]['tm_value'].tolist())\n",
    "\n",
    "    entries_for_well = []\n",
    "\n",
    "    for i in range(target.shape[0]):\n",
    "        entry = []\n",
    "        entry.append(well_id)\n",
    "        timestamp = date_to_timestamp(target.iloc[i].tm_time)\n",
    "        entry.append(timestamp)\n",
    "        id = 0\n",
    "        for parameter_timestamps in parameters_timeseries_per_well_timestamps:\n",
    "            #print(id)\n",
    "            #if(len(parameter_timestamps)>1 and parameter_timestamps[0] <= timestamp and parameter_timestamps[-1] >= timestamp):\n",
    "            if(len(parameter_timestamps)>0):\n",
    "                index = bisect.bisect_left(parameter_timestamps, timestamp)\n",
    "                #print(index)\n",
    "                if index < 0:\n",
    "                    entry.append(parameters_timeseries_per_well_values[id][index])\n",
    "                elif len(parameter_timestamps)-index <= 1:\n",
    "                    entry.append(parameters_timeseries_per_well_values[id][index-1])\n",
    "                else:\n",
    "                    entry.append((parameters_timeseries_per_well_values[id][index]+parameters_timeseries_per_well_values[id][index+1])*\n",
    "                                 (parameter_timestamps[index]-timestamp)/parameter_timestamps[index]-parameter_timestamps[index+1])\n",
    "                #id_to_param_name[i]\n",
    "            else:\n",
    "                entry.append(NaN)\n",
    "            id += 1 #id for id_to_parameter should be id+1\n",
    "        entries_for_well.append(entry)\n",
    "\n",
    "    #df = pd.DataFrame(entries_for_well,\n",
    "    #           columns =['timestamp', 'Debit', 'Obvodnennost', 'Rbuf', 'Linear pressure', 'Pressure na prieme nasosa', 'Zagruzka PED', 'Poputniy gaz', \n",
    "    #                     'Chastota toka', 'Tok fazi', 'Moshnost aktivnaya', 'Napryazhenie', 'R zatrubnoye', 'Well ID'])\n",
    "    return entries_for_well"
   ]
  },
  {
   "cell_type": "code",
   "execution_count": 15,
   "id": "236db4ce-489a-408c-9b40-fdbd97fe7fed",
   "metadata": {},
   "outputs": [
    {
     "name": "stdout",
     "output_type": "stream",
     "text": [
      "10001\n",
      "10002\n",
      "10003\n"
     ]
    },
    {
     "name": "stderr",
     "output_type": "stream",
     "text": [
      "Exception ignored in: 'zmq.backend.cython.message.Frame.__dealloc__'\n",
      "Traceback (most recent call last):\n",
      "  File \"zmq\\\\backend\\\\cython\\\\checkrc.pxd\", line 13, in zmq.backend.cython.checkrc._check_rc\n",
      "KeyboardInterrupt: \n",
      "\n",
      "KeyboardInterrupt\n",
      "\n"
     ]
    }
   ],
   "source": [
    "#all_entries = [] #createDataFrame(columns =['timestamp', 'Debit', 'Obvodnennost', 'Rbuf', 'Linear pressure', 'Pressure na prieme nasosa', 'Zagruzka PED', \n",
    "                                        #'Poputniy gaz', 'Chastota toka', 'Tok fazi', 'Moshnost aktivnaya', 'Napryazhenie', 'R zatrubnoye', 'Well ID'])\n",
    "\n",
    "fields = [\"Время\",\"Дебит жидкости (объёмный), м3/сут\",\"Обводненность (объёмная), %\",\"Рбуф, атм\",\"Давление линейное, атм\",\"Давление на приеме насоса, атм\",\n",
    "          \"Загрузка ПЭД, %\",\"Попутный газ\",\"Частота тока, Герц\",\"Ток фазы А, A (ампер)\",\"Мощность активная, кВт\",\"Напряжение, АВ Вольт\",\n",
    "          \"P затрубное, атм\", \"ID скважины\"]\n",
    "\n",
    "\n",
    "with open('Dynamic_data.csv', 'w') as f:\n",
    "     \n",
    "    # using csv.writer method from CSV package\n",
    "    write = csv.writer(f)\n",
    "    write.writerow(fields)\n",
    "\n",
    "f.close()\n",
    "\n",
    "for i in range(1,60):\n",
    "    if i < 10:\n",
    "        well_id = '1000'+ str(i)\n",
    "    else:\n",
    "        well_id = '100'+ str(i)\n",
    "        \n",
    "    data = pd.read_csv('train_dataset/tm_data/train_'+well_id+'.csv')\n",
    "\n",
    "    with open('Dynamic_data.csv', 'a') as f:\n",
    "        write = csv.writer(f)\n",
    "        write.writerows(return_organized_entries(data))\n",
    "    f.close()\n",
    "    print(well_id)\n",
    "    #all_entries.extend(return_organized_entries(data))\n",
    "\n",
    "for i in range(1,40):\n",
    "    if i < 10:\n",
    "        well_id = '2000'+ str(i)\n",
    "    else:\n",
    "        well_id = '200'+ str(i)\n",
    "        \n",
    "    data = pd.read_csv('train_dataset/tm_data/train_'+well_id+'.csv')\n",
    "\n",
    "    with open('Dynamic_data.csv', 'a') as f:\n",
    "        write = csv.writer(f)\n",
    "        write.writerows(return_organized_entries(data))\n",
    "    f.close()\n",
    "    print(well_id)\n",
    "    #all_entries.extend(return_organized_entries(data))"
   ]
  },
  {
   "cell_type": "code",
   "execution_count": null,
   "id": "9bc5cede-d9ce-4d2d-9bb8-a8754a705bd1",
   "metadata": {},
   "outputs": [],
   "source": [
    "# Assuming df is your DataFrame\n",
    "#sns.set(style=\"whitegrid\")  # Setting the style to whitegrid for a clean background\n",
    "\n",
    "plt.figure(figsize=(12, 6))  # Setting the figure size\n",
    "sns.scatterplot(data=target, x='tm_time', y='tm_value', label='Дебит жидкости (объёмный), м3/сут', color='blue')\n",
    "#sns.lineplot(data=df1[0:4000], x='tm_time', y='tm_value', label='Дебит жидкости (объёмный), м3/сут', color='blue')\n",
    "\n",
    "# Adding labels and title\n",
    "plt.xticks(rotation=90)\n",
    "plt.xlabel('Время')\n",
    "plt.ylabel('Дебит жидкости (объёмный), м3/сут')\n",
    "plt.title('График')\n",
    "\n",
    "plt.show()"
   ]
  },
  {
   "cell_type": "code",
   "execution_count": null,
   "id": "36ef9fcc-ef9e-4a7e-abf2-f7ffeb5b317f",
   "metadata": {},
   "outputs": [],
   "source": [
    "# # Assuming df is your DataFrame\n",
    "# #sns.set(style=\"whitegrid\")  # Setting the style to whitegrid for a clean background\n",
    "\n",
    "# plt.figure(figsize=(12, 6))  # Setting the figure size\n",
    "# sns.lineplot(data=df, x='tm_time', y='tm_value', label='Дебит жидкости (объёмный), м3/сут', color='blue')\n",
    "\n",
    "# # Adding labels and title\n",
    "# plt.xticks(rotation=90)\n",
    "# plt.xlabel('Время')\n",
    "# plt.ylabel('Дебит жидкости (объёмный), м3/сут')\n",
    "# plt.title('График')\n",
    "\n",
    "# plt.show()"
   ]
  },
  {
   "cell_type": "code",
   "execution_count": null,
   "id": "9ade2fd3-d399-4646-aed3-f853f3ad6a14",
   "metadata": {},
   "outputs": [],
   "source": []
  },
  {
   "cell_type": "code",
   "execution_count": null,
   "id": "67ee806e-c716-45d0-8701-e05c668d57fc",
   "metadata": {},
   "outputs": [],
   "source": []
  }
 ],
 "metadata": {
  "kernelspec": {
   "display_name": "Python 3 (ipykernel)",
   "language": "python",
   "name": "python3"
  },
  "language_info": {
   "codemirror_mode": {
    "name": "ipython",
    "version": 3
   },
   "file_extension": ".py",
   "mimetype": "text/x-python",
   "name": "python",
   "nbconvert_exporter": "python",
   "pygments_lexer": "ipython3",
   "version": "3.12.7"
  }
 },
 "nbformat": 4,
 "nbformat_minor": 5
}
